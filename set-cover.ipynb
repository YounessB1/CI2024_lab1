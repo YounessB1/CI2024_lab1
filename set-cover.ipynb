{
 "cells": [
  {
   "cell_type": "markdown",
   "metadata": {},
   "source": [
    "Copyright **`(c)`** 2024 Giovanni Squillero `<giovanni.squillero@polito.it>`  \n",
    "[`https://github.com/squillero/computational-intelligence`](https://github.com/squillero/computational-intelligence)  \n",
    "Free for personal or classroom use; see [`LICENSE.md`](https://github.com/squillero/computational-intelligence/blob/master/LICENSE.md) for details.  "
   ]
  },
  {
   "cell_type": "markdown",
   "metadata": {},
   "source": [
    "# Set Cover problem\n",
    "\n",
    "See: https://en.wikipedia.org/wiki/Set_cover_problem"
   ]
  },
  {
   "cell_type": "code",
   "execution_count": 50,
   "metadata": {},
   "outputs": [],
   "source": [
    "from random import random, seed\n",
    "from itertools import product\n",
    "import numpy as np\n",
    "\n",
    "from icecream import ic"
   ]
  },
  {
   "cell_type": "markdown",
   "metadata": {},
   "source": [
    "## Reproducible Initialization\n",
    "\n",
    "If you want to get reproducible results, use `rng` (and restart the kernel); for non-reproducible ones, use `np.random`."
   ]
  },
  {
   "cell_type": "code",
   "execution_count": 51,
   "metadata": {},
   "outputs": [],
   "source": [
    "UNIVERSE_SIZE = 100_000\n",
    "NUM_SETS = 10_000\n",
    "DENSITY = 0.3\n",
    "\n",
    "rng = np.random.Generator(np.random.PCG64([UNIVERSE_SIZE, NUM_SETS, int(10_000 * DENSITY)]))"
   ]
  },
  {
   "cell_type": "code",
   "execution_count": 52,
   "metadata": {},
   "outputs": [],
   "source": [
    "# DON'T EDIT THESE LINES!\n",
    "\n",
    "SETS = np.random.random((NUM_SETS, UNIVERSE_SIZE)) < DENSITY\n",
    "for s in range(UNIVERSE_SIZE):\n",
    "    if not np.any(SETS[:, s]):\n",
    "        SETS[np.random.randint(NUM_SETS), s] = True\n",
    "COSTS = np.pow(SETS.sum(axis=1), 1.1)"
   ]
  },
  {
   "cell_type": "markdown",
   "metadata": {},
   "source": [
    "## Helper Functions"
   ]
  },
  {
   "cell_type": "code",
   "execution_count": 53,
   "metadata": {},
   "outputs": [],
   "source": [
    "def valid(solution):\n",
    "    \"\"\"Checks wether solution is valid (ie. covers all universe)\"\"\"\n",
    "    return np.all(np.logical_or.reduce(SETS[solution]))\n",
    "\n",
    "\n",
    "def cost(solution):\n",
    "    \"\"\"Returns the cost of a solution (to be minimized)\"\"\"\n",
    "    return COSTS[solution].sum()"
   ]
  },
  {
   "cell_type": "markdown",
   "metadata": {},
   "source": [
    "## Greedy algorithm"
   ]
  },
  {
   "cell_type": "code",
   "execution_count": 54,
   "metadata": {},
   "outputs": [],
   "source": [
    "def greedy_set_cover(SETS, COSTS, UNIVERSE_SIZE):\n",
    "    covered = np.zeros(UNIVERSE_SIZE, dtype=bool) \n",
    "    solution = []\n",
    "\n",
    "    while not np.all(covered): \n",
    "        best_set = None\n",
    "        best_ratio = -1\n",
    "        \n",
    "        for i, current_set in enumerate(SETS):\n",
    "            if i in solution:\n",
    "                continue  \n",
    "            \n",
    "            uncovered_elements = np.logical_and(current_set, ~covered)  # Uncovered elements in this set\n",
    "            num_uncovered = np.sum(uncovered_elements)  # Count uncovered elements\n",
    "            \n",
    "            if num_uncovered > 0:\n",
    "                ratio = num_uncovered / COSTS[i]\n",
    "                if ratio > best_ratio:\n",
    "                    best_ratio = ratio\n",
    "                    best_set =i\n",
    "        \n",
    "        solution.append(best_set)\n",
    "        covered = np.logical_or(covered, SETS[best_set]) \n",
    "    return solution"
   ]
  },
  {
   "cell_type": "code",
   "execution_count": 55,
   "metadata": {},
   "outputs": [
    {
     "data": {
      "text/plain": [
       "(np.True_, np.float64(1761947.4472252252))"
      ]
     },
     "execution_count": 55,
     "metadata": {},
     "output_type": "execute_result"
    }
   ],
   "source": [
    "solution = greedy_set_cover(SETS,COSTS,UNIVERSE_SIZE)\n",
    "valid(solution), cost(solution)"
   ]
  },
  {
   "cell_type": "markdown",
   "metadata": {},
   "source": [
    "## Hill Climber"
   ]
  },
  {
   "cell_type": "code",
   "execution_count": 56,
   "metadata": {},
   "outputs": [],
   "source": [
    "def tweak(solution):\n",
    "    new_solution = solution.copy()\n",
    "    index = rng.integers(0, NUM_SETS)\n",
    "    new_solution[index] = not new_solution[index]\n",
    "    return new_solution"
   ]
  },
  {
   "cell_type": "code",
   "execution_count": 57,
   "metadata": {},
   "outputs": [
    {
     "name": "stdout",
     "output_type": "stream",
     "text": [
      "True 2775569.4005117496\n"
     ]
    }
   ],
   "source": [
    "best_solution = np.full(NUM_SETS, True)\n",
    "num_iters = 2\n",
    "\n",
    "for step in range(num_iters):\n",
    "    solution = np.full(NUM_SETS, False)\n",
    "    \n",
    "    while not valid(solution):\n",
    "        solution = tweak(solution)\n",
    "    \n",
    "    if cost(solution) < cost(best_solution):\n",
    "        best_solution = solution.copy()\n",
    "        \n",
    "print(valid(best_solution), cost(best_solution))"
   ]
  }
 ],
 "metadata": {
  "kernelspec": {
   "display_name": "Python 3 (ipykernel)",
   "language": "python",
   "name": "python3"
  },
  "language_info": {
   "codemirror_mode": {
    "name": "ipython",
    "version": 3
   },
   "file_extension": ".py",
   "mimetype": "text/x-python",
   "name": "python",
   "nbconvert_exporter": "python",
   "pygments_lexer": "ipython3",
   "version": "3.12.2"
  }
 },
 "nbformat": 4,
 "nbformat_minor": 4
}
